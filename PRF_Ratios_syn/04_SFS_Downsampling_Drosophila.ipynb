{
 "cells": [
  {
   "cell_type": "code",
   "execution_count": null,
   "metadata": {},
   "outputs": [],
   "source": [
    "# Working creating synonymous codon dictionary\n",
    "from itertools import product\n",
    "from collections import defaultdict\n",
    "\n",
    "\n",
    "\n",
    "# Save data\n",
    "save_data(codon_data, 'codon_sfs_data.pickle', 'codon_sfs_data.json')\n",
    "save_data(phylop_stats, 'phylop_stats.pickle', 'phylop_stats.json')\n",
    "save_data(phastcons_stats, 'phastcons_stats.pickle', 'phastcons_stats.json')\n",
    "\n",
    "\n",
    "\n",
    "# Generate downsampled SFS\n",
    "sample_sizes = [150, 100, 75, 50, 25]\n",
    "downsampled_data = generate_downsampled_sfs(codon_data, sample_sizes)\n",
    "\n",
    "\n",
    "# Save downsampled data\n",
    "save_data(downsampled_data, 'downsampled_sfs_data.pickle', 'downsampled_sfs_data.json')"
   ]
  }
 ],
 "metadata": {
  "language_info": {
   "name": "python"
  }
 },
 "nbformat": 4,
 "nbformat_minor": 2
}
