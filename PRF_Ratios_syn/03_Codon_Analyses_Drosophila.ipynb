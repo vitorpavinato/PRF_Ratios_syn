{
 "cells": [
  {
   "cell_type": "markdown",
   "metadata": {},
   "source": [
    "# Synonymous Codon Changes SFSs"
   ]
  },
  {
   "cell_type": "markdown",
   "metadata": {},
   "source": [
    "- Upload pickled tables\n",
    "- Create total count dictionay of synonymous codon changes\n",
    "- Dump a pickle file of the dictionary"
   ]
  },
  {
   "cell_type": "code",
   "execution_count": 1,
   "metadata": {},
   "outputs": [],
   "source": [
    "import sys\n",
    "import os\n",
    "sys.path.append(os.path.abspath(os.path.join(os.getcwd(), '..')))\n",
    "\n",
    "import pickle\n",
    "import pandas as pd\n",
    "from codon_analyses import synonymous_1nt_pairs, create_codon_change_sfs_dict, save_data"
   ]
  },
  {
   "cell_type": "code",
   "execution_count": 2,
   "metadata": {},
   "outputs": [
    {
     "name": "stderr",
     "output_type": "stream",
     "text": [
      "/Users/tur92196/Library/Caches/pypoetry/virtualenvs/prf-ratios-syn-sG78pUWQ-py3.12/lib/python3.12/site-packages/IPython/core/magics/osm.py:417: UserWarning: This is now an optional IPython functionality, setting dhist requires you to install the `pickleshare` library.\n",
      "  self.shell.db['dhist'] = compress_dhist(dhist)[-100:]\n"
     ]
    },
    {
     "name": "stdout",
     "output_type": "stream",
     "text": [
      "/Users/tur92196/WorkDir/PRF_Ratios_syn/results/tables\n"
     ]
    }
   ],
   "source": [
    "# Unpickling a DataFrame\n",
    "%cd ../results/tables/\n",
    "\n",
    "with open('dgrp2_rooted_table.pkl', 'rb') as file:\n",
    "    dgrp2_combined_df = pickle.load(file)\n",
    "\n",
    "\n",
    "with open('dpgp3_rooted_table.pkl', 'rb') as file:\n",
    "    dpgp3_combined_df = pickle.load(file)"
   ]
  },
  {
   "cell_type": "code",
   "execution_count": 3,
   "metadata": {},
   "outputs": [],
   "source": [
    "# Filter for synonymous mutations\n",
    "dgrp2_synonymous_df = dgrp2_combined_df[dgrp2_combined_df['maineffect'] == 'SYNONYMOUS_CODING']\n",
    "\n",
    "dpgp3_synonymous_df = dpgp3_combined_df[dpgp3_combined_df['maineffect'] == 'SYNONYMOUS_CODING']"
   ]
  },
  {
   "cell_type": "code",
   "execution_count": 4,
   "metadata": {},
   "outputs": [],
   "source": [
    "# Create synonymous SFS dictionaries\n",
    "dgrp2_synonymous_dict = create_codon_change_sfs_dict(dgrp2_synonymous_df, use_filter=True)\n",
    "\n",
    "dpgp3_synonymous_dict = create_codon_change_sfs_dict(dpgp3_synonymous_df, use_filter=True)"
   ]
  },
  {
   "cell_type": "code",
   "execution_count": 8,
   "metadata": {},
   "outputs": [
    {
     "name": "stderr",
     "output_type": "stream",
     "text": [
      "/Users/tur92196/Library/Caches/pypoetry/virtualenvs/prf-ratios-syn-sG78pUWQ-py3.12/lib/python3.12/site-packages/IPython/core/magics/osm.py:417: UserWarning: This is now an optional IPython functionality, setting dhist requires you to install the `pickleshare` library.\n",
      "  self.shell.db['dhist'] = compress_dhist(dhist)[-100:]\n"
     ]
    },
    {
     "name": "stdout",
     "output_type": "stream",
     "text": [
      "/Users/tur92196/WorkDir/PRF_Ratios_syn/results\n",
      "mkdir: dictionaries: File exists\n",
      "/Users/tur92196/WorkDir/PRF_Ratios_syn/results/dictionaries\n"
     ]
    }
   ],
   "source": [
    "# Save SFS dictionaries\n",
    "%cd ../\n",
    "!mkdir dictionaries\n",
    "%cd dictionaries\n",
    "\n",
    "save_data(dgrp2_synonymous_dict, 'dgrp2_synonymous_dict.pkl', 'dgrp2_synonymous_dict.json')\n",
    "\n",
    "save_data(dpgp3_synonymous_dict, 'dpgp3_synonymous_dict.pkl', 'dpgp3_synonymous_dict.json')"
   ]
  }
 ],
 "metadata": {
  "kernelspec": {
   "display_name": "prf-ratios-syn-sG78pUWQ-py3.12",
   "language": "python",
   "name": "python3"
  },
  "language_info": {
   "codemirror_mode": {
    "name": "ipython",
    "version": 3
   },
   "file_extension": ".py",
   "mimetype": "text/x-python",
   "name": "python",
   "nbconvert_exporter": "python",
   "pygments_lexer": "ipython3",
   "version": "3.12.3"
  }
 },
 "nbformat": 4,
 "nbformat_minor": 2
}
