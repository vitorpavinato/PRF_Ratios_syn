{
 "cells": [
  {
   "cell_type": "markdown",
   "metadata": {},
   "source": [
    "# Downsample Synonymous Codon Changes SFSs"
   ]
  },
  {
   "cell_type": "markdown",
   "metadata": {},
   "source": [
    "- Upload pickled dictionaries\n",
    "- Create dictionaries targeted SFS for each codon change\n",
    "- Dump a pickle file of the dictionary"
   ]
  },
  {
   "cell_type": "code",
   "execution_count": 1,
   "metadata": {},
   "outputs": [],
   "source": [
    "import sys\n",
    "import os\n",
    "sys.path.append(os.path.abspath(os.path.join(os.getcwd(), '..')))\n",
    "\n",
    "import pickle\n",
    "import pandas as pd\n",
    "from sfs_analyses import load_data, downsample_sfs, downsample_codon_change_sfs_in_dict, save_data"
   ]
  },
  {
   "cell_type": "code",
   "execution_count": 2,
   "metadata": {},
   "outputs": [
    {
     "name": "stdout",
     "output_type": "stream",
     "text": [
      "/Users/tur92196/WorkDir/PRF_Ratios_syn/results/dictionaries\n"
     ]
    },
    {
     "name": "stderr",
     "output_type": "stream",
     "text": [
      "/Users/tur92196/Library/Caches/pypoetry/virtualenvs/prf-ratios-syn-sG78pUWQ-py3.12/lib/python3.12/site-packages/IPython/core/magics/osm.py:417: UserWarning: This is now an optional IPython functionality, setting dhist requires you to install the `pickleshare` library.\n",
      "  self.shell.db['dhist'] = compress_dhist(dhist)[-100:]\n"
     ]
    }
   ],
   "source": [
    "# Unpickling a DataFrame\n",
    "%cd ../results/dictionaries\n",
    "\n",
    "with open('dgrp2_synonymous_dict.pkl', 'rb') as file:\n",
    "    dgrp2_codon_dict = pickle.load(file)\n",
    "\n",
    "\n",
    "with open('dpgp3_synonymous_dict.pkl', 'rb') as file:\n",
    "    dpgp3_codon_dict = pickle.load(file)"
   ]
  },
  {
   "cell_type": "code",
   "execution_count": 11,
   "metadata": {},
   "outputs": [],
   "source": [
    "# Define sample sizes\n",
    "SAMPLE_SIZES = [150, 100, 75, 50, 25]"
   ]
  },
  {
   "cell_type": "code",
   "execution_count": 12,
   "metadata": {},
   "outputs": [],
   "source": [
    "# Generate downsampled SFS\n",
    "downsampled_dgrp2 = downsample_codon_change_sfs_in_dict(dgrp2_codon_dict, SAMPLE_SIZES)\n",
    "\n",
    "downsampled_dpgp3 = downsample_codon_change_sfs_in_dict(dpgp3_codon_dict, SAMPLE_SIZES)\n",
    "\n"
   ]
  },
  {
   "cell_type": "code",
   "execution_count": 13,
   "metadata": {},
   "outputs": [
    {
     "name": "stderr",
     "output_type": "stream",
     "text": [
      "/Users/tur92196/Library/Caches/pypoetry/virtualenvs/prf-ratios-syn-sG78pUWQ-py3.12/lib/python3.12/site-packages/IPython/core/magics/osm.py:417: UserWarning: This is now an optional IPython functionality, setting dhist requires you to install the `pickleshare` library.\n",
      "  self.shell.db['dhist'] = compress_dhist(dhist)[-100:]\n"
     ]
    },
    {
     "name": "stdout",
     "output_type": "stream",
     "text": [
      "/Users/tur92196/WorkDir/PRF_Ratios_syn/results\n",
      "/Users/tur92196/WorkDir/PRF_Ratios_syn/results/sfs\n"
     ]
    }
   ],
   "source": [
    "# Save downsampled data\n",
    "%cd ../\n",
    "!mkdir sfs\n",
    "%cd sfs\n",
    "\n",
    "save_data(downsampled_dgrp2, 'dgrp2_downsampled_sfss.pickle', 'dgrp2_downsampled_sfss.json')\n",
    "\n",
    "save_data(downsampled_dpgp3, 'dpgp3_downsampled_sfss.pickle', 'dpgp3_downsampled_sfss.json')"
   ]
  }
 ],
 "metadata": {
  "kernelspec": {
   "display_name": "prf-ratios-syn-sG78pUWQ-py3.12",
   "language": "python",
   "name": "python3"
  },
  "language_info": {
   "codemirror_mode": {
    "name": "ipython",
    "version": 3
   },
   "file_extension": ".py",
   "mimetype": "text/x-python",
   "name": "python",
   "nbconvert_exporter": "python",
   "pygments_lexer": "ipython3",
   "version": "3.12.3"
  }
 },
 "nbformat": 4,
 "nbformat_minor": 2
}
