{
 "cells": [
  {
   "cell_type": "markdown",
   "metadata": {},
   "source": [
    "# Data Processing:"
   ]
  },
  {
   "cell_type": "markdown",
   "metadata": {},
   "source": [
    "- It creates codon pairs based on the refcodon and altocodon for each chromosome;\n",
    "- It root each chromosome table;\n",
    "- It merges additional annotations;\n",
    "- It combines chromosomes to make one big table.\n",
    "- I dumps pickle files for each analyzed population."
   ]
  },
  {
   "cell_type": "code",
   "execution_count": 16,
   "metadata": {},
   "outputs": [],
   "source": [
    "import sys\n",
    "import os\n",
    "sys.path.append(os.path.abspath(os.path.join(os.getcwd(), '..')))\n",
    "\n",
    "import pickle\n",
    "import pandas as pd\n",
    "from data_processing import swap_values, create_codon_change, process_main_table, merge_tables, process_chromosome, process_all_chromosomes"
   ]
  },
  {
   "cell_type": "code",
   "execution_count": 2,
   "metadata": {},
   "outputs": [],
   "source": [
    "# Define the relative path to the main table and the extra annotation tables\n",
    "main_table_path = 'tables'\n",
    "extra_ann_table_path = 'extra_ann_tables'"
   ]
  },
  {
   "cell_type": "code",
   "execution_count": 3,
   "metadata": {},
   "outputs": [],
   "source": [
    "# Define swap pairs\n",
    "swap_pairs = [\n",
    "    ('ref', 'alt'),\n",
    "    ('refcount', 'altcount'),\n",
    "    ('refcontext', 'altcontext'),\n",
    "    ('refcontext_complrev', 'altcontext_complrev'),\n",
    "    ('refcodon', 'altcodon'),\n",
    "    ('refaa', 'altaa')\n",
    "]"
   ]
  },
  {
   "cell_type": "code",
   "execution_count": 6,
   "metadata": {},
   "outputs": [],
   "source": [
    "# Create a directory to store the combined tables\n",
    "%mkdir -p ../results/tables"
   ]
  },
  {
   "cell_type": "markdown",
   "metadata": {},
   "source": [
    "### DGRP2 data"
   ]
  },
  {
   "cell_type": "code",
   "execution_count": 35,
   "metadata": {},
   "outputs": [
    {
     "name": "stderr",
     "output_type": "stream",
     "text": [
      "/Users/tur92196/Library/Caches/pypoetry/virtualenvs/prf-ratios-syn-sG78pUWQ-py3.12/lib/python3.12/site-packages/IPython/core/magics/osm.py:417: UserWarning: This is now an optional IPython functionality, setting dhist requires you to install the `pickleshare` library.\n",
      "  self.shell.db['dhist'] = compress_dhist(dhist)[-100:]\n"
     ]
    },
    {
     "name": "stdout",
     "output_type": "stream",
     "text": [
      "/Users/tur92196/WorkDir/PRF_Ratios_syn/data/dgrp2\n",
      "\u001b[1m\u001b[36mextra_ann_tables\u001b[m\u001b[m \u001b[1m\u001b[36mtables\u001b[m\u001b[m\n"
     ]
    }
   ],
   "source": [
    "# Move into dgrp2 directory\n",
    "%cd ../data/dgrp2\n",
    "!ls"
   ]
  },
  {
   "cell_type": "code",
   "execution_count": 36,
   "metadata": {},
   "outputs": [],
   "source": [
    "# Define chromosome files\n",
    "dgrp2_chromosome_files = [\n",
    "    (f'{main_table_path}/NC_Chr2L_tables.tsv', f'{extra_ann_table_path}/NC_Chr2L_extra_ann.tsv', f'{extra_ann_table_path}/dm6.phyloP27way_chr2L.csv', f'{extra_ann_table_path}/dm6.27way.phastCons_chr2L.csv'),\n",
    "    (f'{main_table_path}/NC_Chr2R_tables.tsv', f'{extra_ann_table_path}/NC_Chr2R_extra_ann.tsv', f'{extra_ann_table_path}/dm6.phyloP27way_chr2R.csv', f'{extra_ann_table_path}/dm6.27way.phastCons_chr2R.csv'),\n",
    "    (f'{main_table_path}/NC_Chr3L_tables.tsv', f'{extra_ann_table_path}/NC_Chr3L_extra_ann.tsv', f'{extra_ann_table_path}/dm6.phyloP27way_chr3L.csv', f'{extra_ann_table_path}/dm6.27way.phastCons_chr3L.csv'),\n",
    "    (f'{main_table_path}/NC_Chr3R_tables.tsv', f'{extra_ann_table_path}/NC_Chr3R_extra_ann.tsv', f'{extra_ann_table_path}/dm6.phyloP27way_chr3R.csv', f'{extra_ann_table_path}/dm6.27way.phastCons_chr3R.csv')\n",
    "]"
   ]
  },
  {
   "cell_type": "code",
   "execution_count": 37,
   "metadata": {},
   "outputs": [],
   "source": [
    "# Process all chromosomes\n",
    "dgrp2_combined_df = process_all_chromosomes(dgrp2_chromosome_files, swap_pairs)"
   ]
  },
  {
   "cell_type": "code",
   "execution_count": 38,
   "metadata": {},
   "outputs": [
    {
     "name": "stdout",
     "output_type": "stream",
     "text": [
      "/Users/tur92196/WorkDir/PRF_Ratios_syn/results/tables\n"
     ]
    },
    {
     "name": "stderr",
     "output_type": "stream",
     "text": [
      "/Users/tur92196/Library/Caches/pypoetry/virtualenvs/prf-ratios-syn-sG78pUWQ-py3.12/lib/python3.12/site-packages/IPython/core/magics/osm.py:417: UserWarning: This is now an optional IPython functionality, setting dhist requires you to install the `pickleshare` library.\n",
      "  self.shell.db['dhist'] = compress_dhist(dhist)[-100:]\n"
     ]
    }
   ],
   "source": [
    "%cd ../../results/tables/"
   ]
  },
  {
   "cell_type": "code",
   "execution_count": 39,
   "metadata": {},
   "outputs": [],
   "source": [
    "# Pickled the combined_df for dgrp2 data\n",
    "with open('dgrp2_rooted_table.pkl', 'wb') as file:\n",
    "    pickle.dump(dgrp2_combined_df, file)"
   ]
  },
  {
   "cell_type": "markdown",
   "metadata": {},
   "source": [
    "### DPGP3 data"
   ]
  },
  {
   "cell_type": "code",
   "execution_count": 40,
   "metadata": {},
   "outputs": [
    {
     "name": "stdout",
     "output_type": "stream",
     "text": [
      "/Users/tur92196/WorkDir/PRF_Ratios_syn/data/dpgp3\n",
      "\u001b[1m\u001b[36mextra_ann_tables\u001b[m\u001b[m \u001b[1m\u001b[36mtables\u001b[m\u001b[m\n"
     ]
    }
   ],
   "source": [
    "# Move into dpgp3 directory\n",
    "%cd ../../data/dpgp3\n",
    "!ls\n"
   ]
  },
  {
   "cell_type": "code",
   "execution_count": 42,
   "metadata": {},
   "outputs": [],
   "source": [
    "# Define chromosome files\n",
    "dpgp3_chromosome_files = [\n",
    "    (f'{main_table_path}/ZI_Chr2L_tables.tsv', f'{extra_ann_table_path}/ZI_Chr2L_extra_ann.tsv', f'{extra_ann_table_path}/dm6.phyloP27way_chr2L.csv', f'{extra_ann_table_path}/dm6.27way.phastCons_chr2L.csv'),\n",
    "    (f'{main_table_path}/ZI_Chr2R_tables.tsv', f'{extra_ann_table_path}/ZI_Chr2R_extra_ann.tsv', f'{extra_ann_table_path}/dm6.phyloP27way_chr2R.csv', f'{extra_ann_table_path}/dm6.27way.phastCons_chr2R.csv'),\n",
    "    (f'{main_table_path}/ZI_Chr3L_tables.tsv', f'{extra_ann_table_path}/ZI_Chr3L_extra_ann.tsv', f'{extra_ann_table_path}/dm6.phyloP27way_chr3L.csv', f'{extra_ann_table_path}/dm6.27way.phastCons_chr3L.csv'),\n",
    "    (f'{main_table_path}/ZI_Chr3R_tables.tsv', f'{extra_ann_table_path}/ZI_Chr3R_extra_ann.tsv', f'{extra_ann_table_path}/dm6.phyloP27way_chr3R.csv', f'{extra_ann_table_path}/dm6.27way.phastCons_chr3R.csv')\n",
    "]"
   ]
  },
  {
   "cell_type": "code",
   "execution_count": 43,
   "metadata": {},
   "outputs": [],
   "source": [
    "# Process all chromosomes\n",
    "dpgp3_combined_df = process_all_chromosomes(dpgp3_chromosome_files, swap_pairs)"
   ]
  },
  {
   "cell_type": "code",
   "execution_count": 44,
   "metadata": {},
   "outputs": [
    {
     "name": "stderr",
     "output_type": "stream",
     "text": [
      "/Users/tur92196/Library/Caches/pypoetry/virtualenvs/prf-ratios-syn-sG78pUWQ-py3.12/lib/python3.12/site-packages/IPython/core/magics/osm.py:417: UserWarning: This is now an optional IPython functionality, setting dhist requires you to install the `pickleshare` library.\n",
      "  self.shell.db['dhist'] = compress_dhist(dhist)[-100:]\n"
     ]
    },
    {
     "name": "stdout",
     "output_type": "stream",
     "text": [
      "/Users/tur92196/WorkDir/PRF_Ratios_syn/results/tables\n"
     ]
    }
   ],
   "source": [
    "%cd ../../results/tables/\n",
    "\n",
    "# Pickled the combined_df for dgrp2 data\n",
    "with open('dpgp3_rooted_table.pkl', 'wb') as file:\n",
    "    pickle.dump(dpgp3_combined_df, file)"
   ]
  }
 ],
 "metadata": {
  "kernelspec": {
   "display_name": "prf-ratios-syn-sG78pUWQ-py3.12",
   "language": "python",
   "name": "python3"
  },
  "language_info": {
   "codemirror_mode": {
    "name": "ipython",
    "version": 3
   },
   "file_extension": ".py",
   "mimetype": "text/x-python",
   "name": "python",
   "nbconvert_exporter": "python",
   "pygments_lexer": "ipython3",
   "version": "3.12.3"
  }
 },
 "nbformat": 4,
 "nbformat_minor": 2
}
